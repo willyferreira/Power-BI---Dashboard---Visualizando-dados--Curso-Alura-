{
 "cells": [
  {
   "cell_type": "markdown",
   "metadata": {},
   "source": [
    "### Análise Exploratória dos Dados"
   ]
  },
  {
   "cell_type": "code",
   "execution_count": 1,
   "metadata": {},
   "outputs": [],
   "source": [
    "import pandas as pd"
   ]
  },
  {
   "cell_type": "code",
   "execution_count": 6,
   "metadata": {},
   "outputs": [
    {
     "data": {
      "text/html": [
       "<div>\n",
       "<style scoped>\n",
       "    .dataframe tbody tr th:only-of-type {\n",
       "        vertical-align: middle;\n",
       "    }\n",
       "\n",
       "    .dataframe tbody tr th {\n",
       "        vertical-align: top;\n",
       "    }\n",
       "\n",
       "    .dataframe thead th {\n",
       "        text-align: right;\n",
       "    }\n",
       "</style>\n",
       "<table border=\"1\" class=\"dataframe\">\n",
       "  <thead>\n",
       "    <tr style=\"text-align: right;\">\n",
       "      <th></th>\n",
       "      <th>Nome</th>\n",
       "      <th>Idade</th>\n",
       "      <th>Gênero</th>\n",
       "      <th>Profissão</th>\n",
       "      <th>Cidade</th>\n",
       "      <th>Estado</th>\n",
       "      <th>Latitude</th>\n",
       "      <th>Longitude</th>\n",
       "      <th>Assinatura ativa</th>\n",
       "      <th>Contato Preferido</th>\n",
       "    </tr>\n",
       "  </thead>\n",
       "  <tbody>\n",
       "    <tr>\n",
       "      <th>0</th>\n",
       "      <td>GISANA</td>\n",
       "      <td>63</td>\n",
       "      <td>F</td>\n",
       "      <td>Autônomo(a)</td>\n",
       "      <td>Belo Horizonte</td>\n",
       "      <td>MG</td>\n",
       "      <td>-19.912998</td>\n",
       "      <td>-43.9542</td>\n",
       "      <td>Sim</td>\n",
       "      <td>Ligação</td>\n",
       "    </tr>\n",
       "    <tr>\n",
       "      <th>1</th>\n",
       "      <td>MARIDETE</td>\n",
       "      <td>58</td>\n",
       "      <td>F</td>\n",
       "      <td>Desenvolvedor(a)</td>\n",
       "      <td>Fortaleza</td>\n",
       "      <td>CE</td>\n",
       "      <td>-3.718390</td>\n",
       "      <td>-38.5434</td>\n",
       "      <td>Sim</td>\n",
       "      <td>Ligação</td>\n",
       "    </tr>\n",
       "    <tr>\n",
       "      <th>2</th>\n",
       "      <td>OSVANA</td>\n",
       "      <td>34</td>\n",
       "      <td>F</td>\n",
       "      <td>Desenvolvedor(a)</td>\n",
       "      <td>Manaus</td>\n",
       "      <td>AM</td>\n",
       "      <td>-3.107190</td>\n",
       "      <td>--60.0261</td>\n",
       "      <td>Sim</td>\n",
       "      <td>E-mail</td>\n",
       "    </tr>\n",
       "    <tr>\n",
       "      <th>3</th>\n",
       "      <td>OSNELIA</td>\n",
       "      <td>16</td>\n",
       "      <td>F</td>\n",
       "      <td>Enfermeiro(a)</td>\n",
       "      <td>Curitiba</td>\n",
       "      <td>PR</td>\n",
       "      <td>-25.428400</td>\n",
       "      <td>-49.2733</td>\n",
       "      <td>Sim</td>\n",
       "      <td>WhatsApp</td>\n",
       "    </tr>\n",
       "    <tr>\n",
       "      <th>4</th>\n",
       "      <td>JENEFER</td>\n",
       "      <td>41</td>\n",
       "      <td>F</td>\n",
       "      <td>Médico(a)</td>\n",
       "      <td>Fortaleza</td>\n",
       "      <td>CE</td>\n",
       "      <td>-3.718390</td>\n",
       "      <td>-38.5434</td>\n",
       "      <td>Sim</td>\n",
       "      <td>Ligação</td>\n",
       "    </tr>\n",
       "  </tbody>\n",
       "</table>\n",
       "</div>"
      ],
      "text/plain": [
       "       Nome  Idade Gênero         Profissão          Cidade Estado   Latitude  \\\n",
       "0    GISANA     63      F       Autônomo(a)  Belo Horizonte     MG -19.912998   \n",
       "1  MARIDETE     58      F  Desenvolvedor(a)       Fortaleza     CE  -3.718390   \n",
       "2    OSVANA     34      F  Desenvolvedor(a)          Manaus     AM  -3.107190   \n",
       "3   OSNELIA     16      F     Enfermeiro(a)        Curitiba     PR -25.428400   \n",
       "4   JENEFER     41      F         Médico(a)       Fortaleza     CE  -3.718390   \n",
       "\n",
       "   Longitude Assinatura ativa Contato Preferido  \n",
       "0   -43.9542              Sim           Ligação  \n",
       "1   -38.5434              Sim           Ligação  \n",
       "2  --60.0261              Sim            E-mail  \n",
       "3   -49.2733              Sim          WhatsApp  \n",
       "4   -38.5434              Sim           Ligação  "
      ]
     },
     "execution_count": 6,
     "metadata": {},
     "output_type": "execute_result"
    }
   ],
   "source": [
    "#Leitura do arquivo xlsx\n",
    "df_clientes = pd.read_excel(\n",
    "    io = 'dashboard-power-bi_visualizando-dados.xlsx',\n",
    "    sheet_name = 'Clientes')\n",
    "df_clientes.head()"
   ]
  }
 ],
 "metadata": {
  "kernelspec": {
   "display_name": "Python 3",
   "language": "python",
   "name": "python3"
  },
  "language_info": {
   "codemirror_mode": {
    "name": "ipython",
    "version": 3
   },
   "file_extension": ".py",
   "mimetype": "text/x-python",
   "name": "python",
   "nbconvert_exporter": "python",
   "pygments_lexer": "ipython3",
   "version": "3.11.1"
  },
  "orig_nbformat": 4
 },
 "nbformat": 4,
 "nbformat_minor": 2
}
