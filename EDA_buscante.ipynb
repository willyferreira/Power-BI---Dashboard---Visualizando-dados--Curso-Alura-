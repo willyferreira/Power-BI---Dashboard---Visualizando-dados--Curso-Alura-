{
 "cells": [
  {
   "cell_type": "code",
   "execution_count": 3,
   "metadata": {},
   "outputs": [],
   "source": [
    "import pandas as pd"
   ]
  },
  {
   "cell_type": "markdown",
   "metadata": {},
   "source": [
    "### Leitura do arquivo"
   ]
  },
  {
   "cell_type": "markdown",
   "metadata": {},
   "source": [
    "#### Leitura do dataframe de clientes"
   ]
  },
  {
   "cell_type": "code",
   "execution_count": 4,
   "metadata": {},
   "outputs": [
    {
     "data": {
      "text/html": [
       "<div>\n",
       "<style scoped>\n",
       "    .dataframe tbody tr th:only-of-type {\n",
       "        vertical-align: middle;\n",
       "    }\n",
       "\n",
       "    .dataframe tbody tr th {\n",
       "        vertical-align: top;\n",
       "    }\n",
       "\n",
       "    .dataframe thead th {\n",
       "        text-align: right;\n",
       "    }\n",
       "</style>\n",
       "<table border=\"1\" class=\"dataframe\">\n",
       "  <thead>\n",
       "    <tr style=\"text-align: right;\">\n",
       "      <th></th>\n",
       "      <th>Nome</th>\n",
       "      <th>Idade</th>\n",
       "      <th>Gênero</th>\n",
       "      <th>Profissão</th>\n",
       "      <th>Cidade</th>\n",
       "      <th>Estado</th>\n",
       "      <th>Latitude</th>\n",
       "      <th>Longitude</th>\n",
       "      <th>Assinatura ativa</th>\n",
       "      <th>Contato Preferido</th>\n",
       "    </tr>\n",
       "  </thead>\n",
       "  <tbody>\n",
       "    <tr>\n",
       "      <th>0</th>\n",
       "      <td>GISANA</td>\n",
       "      <td>63</td>\n",
       "      <td>F</td>\n",
       "      <td>Autônomo(a)</td>\n",
       "      <td>Belo Horizonte</td>\n",
       "      <td>MG</td>\n",
       "      <td>-19.912998</td>\n",
       "      <td>-43.9542</td>\n",
       "      <td>Sim</td>\n",
       "      <td>Ligação</td>\n",
       "    </tr>\n",
       "    <tr>\n",
       "      <th>1</th>\n",
       "      <td>MARIDETE</td>\n",
       "      <td>58</td>\n",
       "      <td>F</td>\n",
       "      <td>Desenvolvedor(a)</td>\n",
       "      <td>Fortaleza</td>\n",
       "      <td>CE</td>\n",
       "      <td>-3.718390</td>\n",
       "      <td>-38.5434</td>\n",
       "      <td>Sim</td>\n",
       "      <td>Ligação</td>\n",
       "    </tr>\n",
       "    <tr>\n",
       "      <th>2</th>\n",
       "      <td>OSVANA</td>\n",
       "      <td>34</td>\n",
       "      <td>F</td>\n",
       "      <td>Desenvolvedor(a)</td>\n",
       "      <td>Manaus</td>\n",
       "      <td>AM</td>\n",
       "      <td>-3.107190</td>\n",
       "      <td>--60.0261</td>\n",
       "      <td>Sim</td>\n",
       "      <td>E-mail</td>\n",
       "    </tr>\n",
       "    <tr>\n",
       "      <th>3</th>\n",
       "      <td>OSNELIA</td>\n",
       "      <td>16</td>\n",
       "      <td>F</td>\n",
       "      <td>Enfermeiro(a)</td>\n",
       "      <td>Curitiba</td>\n",
       "      <td>PR</td>\n",
       "      <td>-25.428400</td>\n",
       "      <td>-49.2733</td>\n",
       "      <td>Sim</td>\n",
       "      <td>WhatsApp</td>\n",
       "    </tr>\n",
       "    <tr>\n",
       "      <th>4</th>\n",
       "      <td>JENEFER</td>\n",
       "      <td>41</td>\n",
       "      <td>F</td>\n",
       "      <td>Médico(a)</td>\n",
       "      <td>Fortaleza</td>\n",
       "      <td>CE</td>\n",
       "      <td>-3.718390</td>\n",
       "      <td>-38.5434</td>\n",
       "      <td>Sim</td>\n",
       "      <td>Ligação</td>\n",
       "    </tr>\n",
       "  </tbody>\n",
       "</table>\n",
       "</div>"
      ],
      "text/plain": [
       "       Nome  Idade Gênero         Profissão          Cidade Estado   Latitude  \\\n",
       "0    GISANA     63      F       Autônomo(a)  Belo Horizonte     MG -19.912998   \n",
       "1  MARIDETE     58      F  Desenvolvedor(a)       Fortaleza     CE  -3.718390   \n",
       "2    OSVANA     34      F  Desenvolvedor(a)          Manaus     AM  -3.107190   \n",
       "3   OSNELIA     16      F     Enfermeiro(a)        Curitiba     PR -25.428400   \n",
       "4   JENEFER     41      F         Médico(a)       Fortaleza     CE  -3.718390   \n",
       "\n",
       "   Longitude Assinatura ativa Contato Preferido  \n",
       "0   -43.9542              Sim           Ligação  \n",
       "1   -38.5434              Sim           Ligação  \n",
       "2  --60.0261              Sim            E-mail  \n",
       "3   -49.2733              Sim          WhatsApp  \n",
       "4   -38.5434              Sim           Ligação  "
      ]
     },
     "execution_count": 4,
     "metadata": {},
     "output_type": "execute_result"
    }
   ],
   "source": [
    "#Leitura do arquivo xlsx\n",
    "df_clientes = pd.read_excel(\n",
    "    io = 'dashboard-power-bi_visualizando-dados.xlsx',\n",
    "    sheet_name = 'Clientes')\n",
    "df_clientes.head()"
   ]
  },
  {
   "cell_type": "markdown",
   "metadata": {},
   "source": [
    "#### Leitura do dataframe do catálogo de livros"
   ]
  },
  {
   "cell_type": "code",
   "execution_count": 5,
   "metadata": {},
   "outputs": [
    {
     "data": {
      "text/html": [
       "<div>\n",
       "<style scoped>\n",
       "    .dataframe tbody tr th:only-of-type {\n",
       "        vertical-align: middle;\n",
       "    }\n",
       "\n",
       "    .dataframe tbody tr th {\n",
       "        vertical-align: top;\n",
       "    }\n",
       "\n",
       "    .dataframe thead th {\n",
       "        text-align: right;\n",
       "    }\n",
       "</style>\n",
       "<table border=\"1\" class=\"dataframe\">\n",
       "  <thead>\n",
       "    <tr style=\"text-align: right;\">\n",
       "      <th></th>\n",
       "      <th>Titulo</th>\n",
       "      <th>Código</th>\n",
       "      <th>Autor</th>\n",
       "      <th>Assunto</th>\n",
       "      <th>Valor</th>\n",
       "    </tr>\n",
       "  </thead>\n",
       "  <tbody>\n",
       "    <tr>\n",
       "      <th>0</th>\n",
       "      <td>50 Tons da Vida</td>\n",
       "      <td>36</td>\n",
       "      <td>Roberto Livianu</td>\n",
       "      <td>Literatura brasileira, Crônicas</td>\n",
       "      <td>39.9</td>\n",
       "    </tr>\n",
       "    <tr>\n",
       "      <th>1</th>\n",
       "      <td>530 Gramas de Ilustrações</td>\n",
       "      <td>37</td>\n",
       "      <td>Marcelo Cipis</td>\n",
       "      <td>Arte, Ilustração e pintura, Humor</td>\n",
       "      <td>63.0</td>\n",
       "    </tr>\n",
       "    <tr>\n",
       "      <th>2</th>\n",
       "      <td>A Um - Poemas</td>\n",
       "      <td>38</td>\n",
       "      <td>Robert Creeley</td>\n",
       "      <td>Poesia, Literatura estrangeira, Bilíngue, Ilus...</td>\n",
       "      <td>41.0</td>\n",
       "    </tr>\n",
       "    <tr>\n",
       "      <th>3</th>\n",
       "      <td>A.S.A. - Associação dos Solitários Anônimos</td>\n",
       "      <td>39</td>\n",
       "      <td>Rosario Fusco</td>\n",
       "      <td>Literatura brasileira, Romance</td>\n",
       "      <td>58.0</td>\n",
       "    </tr>\n",
       "    <tr>\n",
       "      <th>4</th>\n",
       "      <td>Acústica Musical em Palavras e Sons, A</td>\n",
       "      <td>40</td>\n",
       "      <td>Flo Menezes</td>\n",
       "      <td>Ilustrado, Música</td>\n",
       "      <td>81.0</td>\n",
       "    </tr>\n",
       "  </tbody>\n",
       "</table>\n",
       "</div>"
      ],
      "text/plain": [
       "                                        Titulo  Código            Autor  \\\n",
       "0                              50 Tons da Vida      36  Roberto Livianu   \n",
       "1                    530 Gramas de Ilustrações      37    Marcelo Cipis   \n",
       "2                                A Um - Poemas      38   Robert Creeley   \n",
       "3  A.S.A. - Associação dos Solitários Anônimos      39    Rosario Fusco   \n",
       "4       Acústica Musical em Palavras e Sons, A      40      Flo Menezes   \n",
       "\n",
       "                                             Assunto  Valor  \n",
       "0                    Literatura brasileira, Crônicas   39.9  \n",
       "1                  Arte, Ilustração e pintura, Humor   63.0  \n",
       "2  Poesia, Literatura estrangeira, Bilíngue, Ilus...   41.0  \n",
       "3                     Literatura brasileira, Romance   58.0  \n",
       "4                                  Ilustrado, Música   81.0  "
      ]
     },
     "execution_count": 5,
     "metadata": {},
     "output_type": "execute_result"
    }
   ],
   "source": [
    "#Leitura do arquivo xlsx\n",
    "df_livros = pd.read_excel(\n",
    "    io = 'dashboard-power-bi_visualizando-dados.xlsx',\n",
    "    sheet_name = 'Catálogo livros')\n",
    "df_livros.head()"
   ]
  },
  {
   "cell_type": "markdown",
   "metadata": {},
   "source": [
    "#### Leitura do dataframe de vendas por semana"
   ]
  },
  {
   "cell_type": "code",
   "execution_count": 6,
   "metadata": {},
   "outputs": [
    {
     "data": {
      "text/html": [
       "<div>\n",
       "<style scoped>\n",
       "    .dataframe tbody tr th:only-of-type {\n",
       "        vertical-align: middle;\n",
       "    }\n",
       "\n",
       "    .dataframe tbody tr th {\n",
       "        vertical-align: top;\n",
       "    }\n",
       "\n",
       "    .dataframe thead th {\n",
       "        text-align: right;\n",
       "    }\n",
       "</style>\n",
       "<table border=\"1\" class=\"dataframe\">\n",
       "  <thead>\n",
       "    <tr style=\"text-align: right;\">\n",
       "      <th></th>\n",
       "      <th>Semanas</th>\n",
       "      <th>Vendas</th>\n",
       "      <th>Meta de vendas</th>\n",
       "    </tr>\n",
       "  </thead>\n",
       "  <tbody>\n",
       "    <tr>\n",
       "      <th>0</th>\n",
       "      <td>1</td>\n",
       "      <td>800</td>\n",
       "      <td>1081</td>\n",
       "    </tr>\n",
       "    <tr>\n",
       "      <th>1</th>\n",
       "      <td>2</td>\n",
       "      <td>640</td>\n",
       "      <td>853</td>\n",
       "    </tr>\n",
       "    <tr>\n",
       "      <th>2</th>\n",
       "      <td>3</td>\n",
       "      <td>800</td>\n",
       "      <td>1096</td>\n",
       "    </tr>\n",
       "    <tr>\n",
       "      <th>3</th>\n",
       "      <td>4</td>\n",
       "      <td>700</td>\n",
       "      <td>971</td>\n",
       "    </tr>\n",
       "    <tr>\n",
       "      <th>4</th>\n",
       "      <td>5</td>\n",
       "      <td>930</td>\n",
       "      <td>904</td>\n",
       "    </tr>\n",
       "  </tbody>\n",
       "</table>\n",
       "</div>"
      ],
      "text/plain": [
       "   Semanas  Vendas  Meta de vendas\n",
       "0        1     800            1081\n",
       "1        2     640             853\n",
       "2        3     800            1096\n",
       "3        4     700             971\n",
       "4        5     930             904"
      ]
     },
     "execution_count": 6,
     "metadata": {},
     "output_type": "execute_result"
    }
   ],
   "source": [
    "#Leitura do arquivo xlsx\n",
    "df_vendas = pd.read_excel(\n",
    "    io = 'dashboard-power-bi_visualizando-dados.xlsx',\n",
    "    sheet_name = 'Vendas por semana')\n",
    "df_vendas.head()"
   ]
  },
  {
   "cell_type": "markdown",
   "metadata": {},
   "source": [
    "#### Leitura do dataframe de acessos"
   ]
  },
  {
   "cell_type": "code",
   "execution_count": 7,
   "metadata": {},
   "outputs": [
    {
     "data": {
      "text/html": [
       "<div>\n",
       "<style scoped>\n",
       "    .dataframe tbody tr th:only-of-type {\n",
       "        vertical-align: middle;\n",
       "    }\n",
       "\n",
       "    .dataframe tbody tr th {\n",
       "        vertical-align: top;\n",
       "    }\n",
       "\n",
       "    .dataframe thead th {\n",
       "        text-align: right;\n",
       "    }\n",
       "</style>\n",
       "<table border=\"1\" class=\"dataframe\">\n",
       "  <thead>\n",
       "    <tr style=\"text-align: right;\">\n",
       "      <th></th>\n",
       "      <th>Data</th>\n",
       "      <th>Acessos</th>\n",
       "    </tr>\n",
       "  </thead>\n",
       "  <tbody>\n",
       "    <tr>\n",
       "      <th>0</th>\n",
       "      <td>2020-01-01</td>\n",
       "      <td>50.0</td>\n",
       "    </tr>\n",
       "    <tr>\n",
       "      <th>1</th>\n",
       "      <td>2020-01-02</td>\n",
       "      <td>51.0</td>\n",
       "    </tr>\n",
       "    <tr>\n",
       "      <th>2</th>\n",
       "      <td>2020-01-03</td>\n",
       "      <td>53.0</td>\n",
       "    </tr>\n",
       "    <tr>\n",
       "      <th>3</th>\n",
       "      <td>2020-01-04</td>\n",
       "      <td>203.0</td>\n",
       "    </tr>\n",
       "    <tr>\n",
       "      <th>4</th>\n",
       "      <td>2020-01-05</td>\n",
       "      <td>127.5</td>\n",
       "    </tr>\n",
       "  </tbody>\n",
       "</table>\n",
       "</div>"
      ],
      "text/plain": [
       "        Data  Acessos\n",
       "0 2020-01-01     50.0\n",
       "1 2020-01-02     51.0\n",
       "2 2020-01-03     53.0\n",
       "3 2020-01-04    203.0\n",
       "4 2020-01-05    127.5"
      ]
     },
     "execution_count": 7,
     "metadata": {},
     "output_type": "execute_result"
    }
   ],
   "source": [
    "#Leitura do arquivo xlsx\n",
    "df_acessos = pd.read_excel(\n",
    "    io = 'dashboard-power-bi_visualizando-dados.xlsx',\n",
    "    sheet_name = 'Acessos na página')\n",
    "df_acessos.head()"
   ]
  },
  {
   "cell_type": "markdown",
   "metadata": {},
   "source": [
    "#### Leitura do dataframe de acessos"
   ]
  },
  {
   "cell_type": "code",
   "execution_count": 8,
   "metadata": {},
   "outputs": [
    {
     "data": {
      "text/html": [
       "<div>\n",
       "<style scoped>\n",
       "    .dataframe tbody tr th:only-of-type {\n",
       "        vertical-align: middle;\n",
       "    }\n",
       "\n",
       "    .dataframe tbody tr th {\n",
       "        vertical-align: top;\n",
       "    }\n",
       "\n",
       "    .dataframe thead th {\n",
       "        text-align: right;\n",
       "    }\n",
       "</style>\n",
       "<table border=\"1\" class=\"dataframe\">\n",
       "  <thead>\n",
       "    <tr style=\"text-align: right;\">\n",
       "      <th></th>\n",
       "      <th>Data</th>\n",
       "      <th>Número de livros vendidos</th>\n",
       "      <th>Grupo</th>\n",
       "    </tr>\n",
       "  </thead>\n",
       "  <tbody>\n",
       "    <tr>\n",
       "      <th>0</th>\n",
       "      <td>2019-12-01</td>\n",
       "      <td>1310.0</td>\n",
       "      <td>3</td>\n",
       "    </tr>\n",
       "    <tr>\n",
       "      <th>1</th>\n",
       "      <td>2019-12-02</td>\n",
       "      <td>1386.0</td>\n",
       "      <td>1</td>\n",
       "    </tr>\n",
       "    <tr>\n",
       "      <th>2</th>\n",
       "      <td>2019-12-03</td>\n",
       "      <td>1265.0</td>\n",
       "      <td>2</td>\n",
       "    </tr>\n",
       "    <tr>\n",
       "      <th>3</th>\n",
       "      <td>2019-12-04</td>\n",
       "      <td>1370.0</td>\n",
       "      <td>2</td>\n",
       "    </tr>\n",
       "    <tr>\n",
       "      <th>4</th>\n",
       "      <td>2019-12-05</td>\n",
       "      <td>1227.0</td>\n",
       "      <td>3</td>\n",
       "    </tr>\n",
       "  </tbody>\n",
       "</table>\n",
       "</div>"
      ],
      "text/plain": [
       "        Data  Número de livros vendidos  Grupo \n",
       "0 2019-12-01                     1310.0       3\n",
       "1 2019-12-02                     1386.0       1\n",
       "2 2019-12-03                     1265.0       2\n",
       "3 2019-12-04                     1370.0       2\n",
       "4 2019-12-05                     1227.0       3"
      ]
     },
     "execution_count": 8,
     "metadata": {},
     "output_type": "execute_result"
    }
   ],
   "source": [
    "#Leitura do arquivo xlsx\n",
    "df_nlivrosvendidos = pd.read_excel(\n",
    "    io = 'dashboard-power-bi_visualizando-dados.xlsx',\n",
    "    sheet_name = 'Número de livros vendidos')\n",
    "df_nlivrosvendidos.head()"
   ]
  },
  {
   "cell_type": "markdown",
   "metadata": {},
   "source": [
    "### Análise Exploratória dos Dados"
   ]
  },
  {
   "cell_type": "markdown",
   "metadata": {},
   "source": [
    "#### Clientes"
   ]
  },
  {
   "cell_type": "code",
   "execution_count": 28,
   "metadata": {},
   "outputs": [
    {
     "name": "stdout",
     "output_type": "stream",
     "text": [
      "<class 'pandas.core.frame.DataFrame'>\n",
      "RangeIndex: 474 entries, 0 to 473\n",
      "Data columns (total 10 columns):\n",
      " #   Column             Non-Null Count  Dtype  \n",
      "---  ------             --------------  -----  \n",
      " 0   Nome               474 non-null    object \n",
      " 1   Idade              474 non-null    int64  \n",
      " 2   Gênero             474 non-null    object \n",
      " 3   Profissão          474 non-null    object \n",
      " 4   Cidade             474 non-null    object \n",
      " 5   Estado             474 non-null    object \n",
      " 6   Latitude           474 non-null    float64\n",
      " 7   Longitude          474 non-null    object \n",
      " 8   Assinatura ativa   474 non-null    object \n",
      " 9   Contato Preferido  474 non-null    object \n",
      "dtypes: float64(1), int64(1), object(8)\n",
      "memory usage: 37.2+ KB\n"
     ]
    }
   ],
   "source": [
    "#Mostrando os 5 primeiros registros\n",
    "df_clientes.head()\n",
    "#Mostrar o tipo das variáveis\n",
    "df_clientes.dtypes\n",
    "#Mostrar o tipo das variáveis e verificação se há valores nulos\n",
    "df_clientes.info()"
   ]
  },
  {
   "cell_type": "code",
   "execution_count": 33,
   "metadata": {},
   "outputs": [
    {
     "data": {
      "text/plain": [
       "0       -43.9542\n",
       "1       -38.5434\n",
       "2       -60.0261\n",
       "3       -49.2733\n",
       "4       -38.5434\n",
       "         ...    \n",
       "469     -48.5495\n",
       "470     -46.4445\n",
       "471     -49.2733\n",
       "472     -44.3068\n",
       "473     -48.5495\n",
       "Name: Longitude, Length: 474, dtype: object"
      ]
     },
     "execution_count": 33,
     "metadata": {},
     "output_type": "execute_result"
    }
   ],
   "source": [
    "#Verificado que em alguns registros da Longitude, os números estão iniciados com duplos traços \"--\"\n",
    "#Substituição de \"--\" para \"-\"\n",
    "df_clientes['Longitude'] = df_clientes['Longitude'].str.replace('--', '-')\n",
    "df_clientes['Longitude']"
   ]
  },
  {
   "cell_type": "code",
   "execution_count": 34,
   "metadata": {},
   "outputs": [],
   "source": [
    "#Alteração do tipo da variável object para float\n",
    "df_clientes['Longitude'] = pd.to_numeric(df_clientes['Longitude'])\n",
    "#Mostrar o tipo da variável\n",
    "df_clientes['Longitude'].dtypes"
   ]
  },
  {
   "cell_type": "code",
   "execution_count": 37,
   "metadata": {},
   "outputs": [],
   "source": [
    "import matplotlib"
   ]
  },
  {
   "cell_type": "code",
   "execution_count": 38,
   "metadata": {},
   "outputs": [
    {
     "data": {
      "text/plain": [
       "<AxesSubplot: xlabel='Longitude', ylabel='Latitude'>"
      ]
     },
     "execution_count": 38,
     "metadata": {},
     "output_type": "execute_result"
    },
    {
     "data": {
      "image/png": "[encoded data removed]",
      "text/plain": [
       "<Figure size 640x480 with 1 Axes>"
      ]
     },
     "metadata": {},
     "output_type": "display_data"
    }
   ],
   "source": [
    "df_clientes.plot.scatter(y = 'Latitude', x = 'Longitude')"
   ]
  }
 ],
 "metadata": {
  "kernelspec": {
   "display_name": "Python 3",
   "language": "python",
   "name": "python3"
  },
  "language_info": {
   "codemirror_mode": {
    "name": "ipython",
    "version": 3
   },
   "file_extension": ".py",
   "mimetype": "text/x-python",
   "name": "python",
   "nbconvert_exporter": "python",
   "pygments_lexer": "ipython3",
   "version": "3.11.1"
  },
  "orig_nbformat": 4
 },
 "nbformat": 4,
 "nbformat_minor": 2
}
